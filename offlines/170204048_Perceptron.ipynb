{
  "nbformat": 4,
  "nbformat_minor": 0,
  "metadata": {
    "colab": {
      "name": "170204048.ipynb",
      "provenance": [],
      "collapsed_sections": []
    },
    "kernelspec": {
      "name": "python3",
      "display_name": "Python 3"
    },
    "language_info": {
      "name": "python"
    }
  },
  "cells": [
    {
      "cell_type": "code",
      "execution_count": 1,
      "metadata": {
        "id": "yN9A-3MuLIpX"
      },
      "outputs": [],
      "source": [
        "from google.colab import drive\n",
        "import pandas as pd\n",
        "import numpy as np"
      ]
    },
    {
      "cell_type": "code",
      "source": [
        "drive.mount('/content/drive')"
      ],
      "metadata": {
        "colab": {
          "base_uri": "https://localhost:8080/"
        },
        "id": "PtYhqU88TAGo",
        "outputId": "c1b08946-be8b-46f2-ee70-e302c9f2835a"
      },
      "execution_count": 2,
      "outputs": [
        {
          "output_type": "stream",
          "name": "stdout",
          "text": [
            "Mounted at /content/drive\n"
          ]
        }
      ]
    },
    {
      "cell_type": "code",
      "source": [
        "df = pd.read_csv(\"/content/drive/MyDrive/Colab Datasets/train-perceptron.txt\", delimiter = ' ',header = None)\n",
        "# store dataframe into csv file\n",
        "df.to_csv('train-perceptron.csv', index = None)"
      ],
      "metadata": {
        "id": "Y5l98-tzWm6N"
      },
      "execution_count": 3,
      "outputs": []
    },
    {
      "cell_type": "code",
      "source": [
        "df"
      ],
      "metadata": {
        "id": "kK_C3OWlW88E",
        "colab": {
          "base_uri": "https://localhost:8080/",
          "height": 238
        },
        "outputId": "5eb69aed-a40d-49c9-b06e-04827db30b8a"
      },
      "execution_count": 4,
      "outputs": [
        {
          "output_type": "execute_result",
          "data": {
            "text/html": [
              "\n",
              "  <div id=\"df-1eca1bd7-eb16-4e16-ba37-726854aafb29\">\n",
              "    <div class=\"colab-df-container\">\n",
              "      <div>\n",
              "<style scoped>\n",
              "    .dataframe tbody tr th:only-of-type {\n",
              "        vertical-align: middle;\n",
              "    }\n",
              "\n",
              "    .dataframe tbody tr th {\n",
              "        vertical-align: top;\n",
              "    }\n",
              "\n",
              "    .dataframe thead th {\n",
              "        text-align: right;\n",
              "    }\n",
              "</style>\n",
              "<table border=\"1\" class=\"dataframe\">\n",
              "  <thead>\n",
              "    <tr style=\"text-align: right;\">\n",
              "      <th></th>\n",
              "      <th>0</th>\n",
              "      <th>1</th>\n",
              "      <th>2</th>\n",
              "    </tr>\n",
              "  </thead>\n",
              "  <tbody>\n",
              "    <tr>\n",
              "      <th>0</th>\n",
              "      <td>1</td>\n",
              "      <td>1.0</td>\n",
              "      <td>1</td>\n",
              "    </tr>\n",
              "    <tr>\n",
              "      <th>1</th>\n",
              "      <td>1</td>\n",
              "      <td>-1.0</td>\n",
              "      <td>1</td>\n",
              "    </tr>\n",
              "    <tr>\n",
              "      <th>2</th>\n",
              "      <td>2</td>\n",
              "      <td>2.5</td>\n",
              "      <td>2</td>\n",
              "    </tr>\n",
              "    <tr>\n",
              "      <th>3</th>\n",
              "      <td>0</td>\n",
              "      <td>2.0</td>\n",
              "      <td>2</td>\n",
              "    </tr>\n",
              "    <tr>\n",
              "      <th>4</th>\n",
              "      <td>2</td>\n",
              "      <td>3.0</td>\n",
              "      <td>2</td>\n",
              "    </tr>\n",
              "    <tr>\n",
              "      <th>5</th>\n",
              "      <td>4</td>\n",
              "      <td>5.0</td>\n",
              "      <td>1</td>\n",
              "    </tr>\n",
              "  </tbody>\n",
              "</table>\n",
              "</div>\n",
              "      <button class=\"colab-df-convert\" onclick=\"convertToInteractive('df-1eca1bd7-eb16-4e16-ba37-726854aafb29')\"\n",
              "              title=\"Convert this dataframe to an interactive table.\"\n",
              "              style=\"display:none;\">\n",
              "        \n",
              "  <svg xmlns=\"http://www.w3.org/2000/svg\" height=\"24px\"viewBox=\"0 0 24 24\"\n",
              "       width=\"24px\">\n",
              "    <path d=\"M0 0h24v24H0V0z\" fill=\"none\"/>\n",
              "    <path d=\"M18.56 5.44l.94 2.06.94-2.06 2.06-.94-2.06-.94-.94-2.06-.94 2.06-2.06.94zm-11 1L8.5 8.5l.94-2.06 2.06-.94-2.06-.94L8.5 2.5l-.94 2.06-2.06.94zm10 10l.94 2.06.94-2.06 2.06-.94-2.06-.94-.94-2.06-.94 2.06-2.06.94z\"/><path d=\"M17.41 7.96l-1.37-1.37c-.4-.4-.92-.59-1.43-.59-.52 0-1.04.2-1.43.59L10.3 9.45l-7.72 7.72c-.78.78-.78 2.05 0 2.83L4 21.41c.39.39.9.59 1.41.59.51 0 1.02-.2 1.41-.59l7.78-7.78 2.81-2.81c.8-.78.8-2.07 0-2.86zM5.41 20L4 18.59l7.72-7.72 1.47 1.35L5.41 20z\"/>\n",
              "  </svg>\n",
              "      </button>\n",
              "      \n",
              "  <style>\n",
              "    .colab-df-container {\n",
              "      display:flex;\n",
              "      flex-wrap:wrap;\n",
              "      gap: 12px;\n",
              "    }\n",
              "\n",
              "    .colab-df-convert {\n",
              "      background-color: #E8F0FE;\n",
              "      border: none;\n",
              "      border-radius: 50%;\n",
              "      cursor: pointer;\n",
              "      display: none;\n",
              "      fill: #1967D2;\n",
              "      height: 32px;\n",
              "      padding: 0 0 0 0;\n",
              "      width: 32px;\n",
              "    }\n",
              "\n",
              "    .colab-df-convert:hover {\n",
              "      background-color: #E2EBFA;\n",
              "      box-shadow: 0px 1px 2px rgba(60, 64, 67, 0.3), 0px 1px 3px 1px rgba(60, 64, 67, 0.15);\n",
              "      fill: #174EA6;\n",
              "    }\n",
              "\n",
              "    [theme=dark] .colab-df-convert {\n",
              "      background-color: #3B4455;\n",
              "      fill: #D2E3FC;\n",
              "    }\n",
              "\n",
              "    [theme=dark] .colab-df-convert:hover {\n",
              "      background-color: #434B5C;\n",
              "      box-shadow: 0px 1px 3px 1px rgba(0, 0, 0, 0.15);\n",
              "      filter: drop-shadow(0px 1px 2px rgba(0, 0, 0, 0.3));\n",
              "      fill: #FFFFFF;\n",
              "    }\n",
              "  </style>\n",
              "\n",
              "      <script>\n",
              "        const buttonEl =\n",
              "          document.querySelector('#df-1eca1bd7-eb16-4e16-ba37-726854aafb29 button.colab-df-convert');\n",
              "        buttonEl.style.display =\n",
              "          google.colab.kernel.accessAllowed ? 'block' : 'none';\n",
              "\n",
              "        async function convertToInteractive(key) {\n",
              "          const element = document.querySelector('#df-1eca1bd7-eb16-4e16-ba37-726854aafb29');\n",
              "          const dataTable =\n",
              "            await google.colab.kernel.invokeFunction('convertToInteractive',\n",
              "                                                     [key], {});\n",
              "          if (!dataTable) return;\n",
              "\n",
              "          const docLinkHtml = 'Like what you see? Visit the ' +\n",
              "            '<a target=\"_blank\" href=https://colab.research.google.com/notebooks/data_table.ipynb>data table notebook</a>'\n",
              "            + ' to learn more about interactive tables.';\n",
              "          element.innerHTML = '';\n",
              "          dataTable['output_type'] = 'display_data';\n",
              "          await google.colab.output.renderOutput(dataTable, element);\n",
              "          const docLink = document.createElement('div');\n",
              "          docLink.innerHTML = docLinkHtml;\n",
              "          element.appendChild(docLink);\n",
              "        }\n",
              "      </script>\n",
              "    </div>\n",
              "  </div>\n",
              "  "
            ],
            "text/plain": [
              "   0    1  2\n",
              "0  1  1.0  1\n",
              "1  1 -1.0  1\n",
              "2  2  2.5  2\n",
              "3  0  2.0  2\n",
              "4  2  3.0  2\n",
              "5  4  5.0  1"
            ]
          },
          "metadata": {},
          "execution_count": 4
        }
      ]
    },
    {
      "cell_type": "code",
      "source": [
        "x11 = []\n",
        "x12 = []\n",
        "x21 = []\n",
        "x22 = []\n",
        "for i in range(0,6):\n",
        "  item = df.iloc[i,2]\n",
        "  if item == 1:\n",
        "    x11.append(df.iloc[i,0])\n",
        "    x12.append(df.iloc[i,1])\n",
        "  if item ==2:\n",
        "    x21.append(df.iloc[i,0])\n",
        "    x22.append(df.iloc[i,1])"
      ],
      "metadata": {
        "id": "NOyMSCaZab1u"
      },
      "execution_count": 5,
      "outputs": []
    },
    {
      "cell_type": "code",
      "source": [
        "x22"
      ],
      "metadata": {
        "colab": {
          "base_uri": "https://localhost:8080/"
        },
        "id": "I2oIsnrk3n0s",
        "outputId": "18e1318a-2a26-42fe-ffef-b612c0d48a11"
      },
      "execution_count": 6,
      "outputs": [
        {
          "output_type": "execute_result",
          "data": {
            "text/plain": [
              "[2.5, 2.0, 3.0]"
            ]
          },
          "metadata": {},
          "execution_count": 6
        }
      ]
    },
    {
      "cell_type": "markdown",
      "source": [
        "Answer no 1 : After plotting the given points as class 1 and class 2, we see that the points are linearly inseparable."
      ],
      "metadata": {
        "id": "sHyLC12IPDF6"
      }
    },
    {
      "cell_type": "code",
      "source": [
        "import matplotlib.pyplot as plt\n",
        "\n",
        "plt.plot(x11, x12, 'o')\n",
        "plt.plot(x21, x22, 'x')\n",
        "plt.show()"
      ],
      "metadata": {
        "colab": {
          "base_uri": "https://localhost:8080/",
          "height": 265
        },
        "id": "ewO2TD-Ce_qv",
        "outputId": "cf4e6f23-b415-4352-f950-60ecc2d2c623"
      },
      "execution_count": 7,
      "outputs": [
        {
          "output_type": "display_data",
          "data": {
            "image/png": "[encoded data removed]",
            "text/plain": [
              "<Figure size 432x288 with 1 Axes>"
            ]
          },
          "metadata": {
            "needs_background": "light"
          }
        }
      ]
    },
    {
      "cell_type": "markdown",
      "source": [
        "Answer no 2: High dimensional points are being generated and stored in y1 and y2"
      ],
      "metadata": {
        "id": "9x9HpIn-PZD2"
      }
    },
    {
      "cell_type": "code",
      "source": [
        "y1 = np.arange(18).reshape(3,6)\n",
        "y2 = np.arange(18).reshape(3,6)\n",
        "y1 = y1.astype('float64')\n",
        "y2 = y2.astype('float64')\n",
        "for i in range(0, 3):\n",
        "  y1[i,0] = x11[i]*x11[i]\n",
        "  y1[i,1] = x12[i]*x12[i]\n",
        "  y1[i,2] = x11[i]*x12[i]\n",
        "  y1[i,3] = x11[i]\n",
        "  y1[i,4] = x12[i]\n",
        "  y1[i,5] = 1\n",
        "  y2[i,0] = x21[i]*x21[i]\n",
        "  y2[i,1] = x22[i]*x22[i]\n",
        "  y2[i,2] = x21[i]*x22[i]\n",
        "  y2[i,3] = x21[i]\n",
        "  y2[i,4] = x22[i]\n",
        "  y2[i,5] = 1"
      ],
      "metadata": {
        "id": "tjH5Z8QJf61f"
      },
      "execution_count": 8,
      "outputs": []
    },
    {
      "cell_type": "code",
      "source": [
        "y1"
      ],
      "metadata": {
        "colab": {
          "base_uri": "https://localhost:8080/"
        },
        "id": "V1nffzR9p53y",
        "outputId": "e4200366-8291-498f-cdd0-c823804324a1"
      },
      "execution_count": 9,
      "outputs": [
        {
          "output_type": "execute_result",
          "data": {
            "text/plain": [
              "array([[ 1.,  1.,  1.,  1.,  1.,  1.],\n",
              "       [ 1.,  1., -1.,  1., -1.,  1.],\n",
              "       [16., 25., 20.,  4.,  5.,  1.]])"
            ]
          },
          "metadata": {},
          "execution_count": 9
        }
      ]
    },
    {
      "cell_type": "code",
      "source": [
        "y2"
      ],
      "metadata": {
        "colab": {
          "base_uri": "https://localhost:8080/"
        },
        "id": "jwCgTgfEsxnZ",
        "outputId": "c8302d66-e370-424c-b72a-9e5afb3516d4"
      },
      "execution_count": 10,
      "outputs": [
        {
          "output_type": "execute_result",
          "data": {
            "text/plain": [
              "array([[4.  , 6.25, 5.  , 2.  , 2.5 , 1.  ],\n",
              "       [0.  , 4.  , 0.  , 0.  , 2.  , 1.  ],\n",
              "       [4.  , 9.  , 6.  , 2.  , 3.  , 1.  ]])"
            ]
          },
          "metadata": {},
          "execution_count": 10
        }
      ]
    },
    {
      "cell_type": "code",
      "source": [
        "for i in range(0, 3):\n",
        "  y2[i,0] = -y2[i,0]\n",
        "  y2[i,1] = -y2[i,1]\n",
        "  y2[i,2] = -y2[i,2]\n",
        "  y2[i,3] = -y2[i,3]\n",
        "  y2[i,4] = -y2[i,4]\n",
        "  y2[i,5] = -1"
      ],
      "metadata": {
        "id": "BTIIcCcYs2VJ"
      },
      "execution_count": 11,
      "outputs": []
    },
    {
      "cell_type": "code",
      "source": [
        "y2"
      ],
      "metadata": {
        "colab": {
          "base_uri": "https://localhost:8080/"
        },
        "id": "8aQ5NltTtCO4",
        "outputId": "19f48ed9-037e-4deb-8bc1-0d8b32d851ff"
      },
      "execution_count": 12,
      "outputs": [
        {
          "output_type": "execute_result",
          "data": {
            "text/plain": [
              "array([[-4.  , -6.25, -5.  , -2.  , -2.5 , -1.  ],\n",
              "       [-0.  , -4.  , -0.  , -0.  , -2.  , -1.  ],\n",
              "       [-4.  , -9.  , -6.  , -2.  , -3.  , -1.  ]])"
            ]
          },
          "metadata": {},
          "execution_count": 12
        }
      ]
    },
    {
      "cell_type": "code",
      "source": [
        "y = np.arange(36).reshape(6,6)\n",
        "y = y.astype('float64')\n",
        "y = np.concatenate((y1, y2), axis=0)"
      ],
      "metadata": {
        "id": "L5xuD6ftQEl7"
      },
      "execution_count": 13,
      "outputs": []
    },
    {
      "cell_type": "code",
      "source": [
        "y"
      ],
      "metadata": {
        "colab": {
          "base_uri": "https://localhost:8080/"
        },
        "id": "FV-s29vAQO7W",
        "outputId": "576d2efb-cae8-4381-a06b-233b46e8a50e"
      },
      "execution_count": 14,
      "outputs": [
        {
          "output_type": "execute_result",
          "data": {
            "text/plain": [
              "array([[ 1.  ,  1.  ,  1.  ,  1.  ,  1.  ,  1.  ],\n",
              "       [ 1.  ,  1.  , -1.  ,  1.  , -1.  ,  1.  ],\n",
              "       [16.  , 25.  , 20.  ,  4.  ,  5.  ,  1.  ],\n",
              "       [-4.  , -6.25, -5.  , -2.  , -2.5 , -1.  ],\n",
              "       [-0.  , -4.  , -0.  , -0.  , -2.  , -1.  ],\n",
              "       [-4.  , -9.  , -6.  , -2.  , -3.  , -1.  ]])"
            ]
          },
          "metadata": {},
          "execution_count": 14
        }
      ]
    },
    {
      "cell_type": "code",
      "source": [
        "def updateWeight(w0, y_miss,alpha):\n",
        "  return w0+y_miss*alpha;"
      ],
      "metadata": {
        "id": "NVPd-vjYiJxI"
      },
      "execution_count": 17,
      "outputs": []
    },
    {
      "cell_type": "markdown",
      "source": [
        "Answer no 3: Perceptron algorithm for one at a time and many at a time"
      ],
      "metadata": {
        "id": "EuJITsaNPpcD"
      }
    },
    {
      "cell_type": "code",
      "source": [
        "def oneAtATime(w0,alpha):\n",
        "  cnt = 0\n",
        "  while(1):\n",
        "    j = 0\n",
        "    misclassified = []\n",
        "    for i in range(0,6):\n",
        "      result = np.dot(y[i], w0)\n",
        "      if result>0:\n",
        "        continue\n",
        "      else:\n",
        "        j = j + 1\n",
        "        w00 = updateWeight(np.transpose(w0),y[i],alpha)\n",
        "        w0 = np.transpose(w00)\n",
        "    cnt = cnt + 1 \n",
        "    if j==0:\n",
        "      return cnt\n",
        "\n",
        "def manyAtATime(w0,alpha):\n",
        "  cnt = 0\n",
        "  while(1):\n",
        "    j = 0\n",
        "    misclassified = []\n",
        "    for i in range(0,6):\n",
        "      result = np.dot(y[i], w0)\n",
        "      if result>0:\n",
        "        continue\n",
        "      else:\n",
        "        misclassified.append(y[i])\n",
        "        j = j + 1\n",
        "    cnt = cnt + 1 \n",
        "    if j==0:\n",
        "      return cnt\n",
        "    else:\n",
        "      sum =  np.sum(misclassified, axis = 0)\n",
        "      w00 = updateWeight(np.transpose(w0),sum,alpha)\n",
        "      w0 = np.transpose(w00)"
      ],
      "metadata": {
        "id": "02L_sTQhuLtR"
      },
      "execution_count": 18,
      "outputs": []
    },
    {
      "cell_type": "code",
      "source": [
        "allZeroMany = []\n",
        "allZeroOne = []\n",
        "w0 = np.zeros((6,1))\n",
        "for i in range(0,10):\n",
        "  alpha = (i+1)/10\n",
        "  x = manyAtATime(w0,alpha)\n",
        "  z = oneAtATime(w0,alpha)\n",
        "  allZeroMany.append(x)\n",
        "  allZeroOne.append(z)"
      ],
      "metadata": {
        "id": "nRBn13P_WowD"
      },
      "execution_count": 19,
      "outputs": []
    },
    {
      "cell_type": "code",
      "source": [
        "allZeroOne"
      ],
      "metadata": {
        "colab": {
          "base_uri": "https://localhost:8080/"
        },
        "id": "pNnzYnGRQZpE",
        "outputId": "0aa26a65-214f-4065-e66c-9dccca8e2a4d"
      },
      "execution_count": 20,
      "outputs": [
        {
          "output_type": "execute_result",
          "data": {
            "text/plain": [
              "[94, 94, 94, 94, 94, 94, 94, 94, 94, 94]"
            ]
          },
          "metadata": {},
          "execution_count": 20
        }
      ]
    },
    {
      "cell_type": "code",
      "source": [
        "allOneMany = []\n",
        "allOneOne = []\n",
        "w0 = np.ones((6,1))\n",
        "for i in range(0,10):\n",
        "  alpha = (i+1)/10\n",
        "  x = manyAtATime(w0,alpha)\n",
        "  z = oneAtATime(w0,alpha)\n",
        "  allOneMany.append(x)\n",
        "  allOneOne.append(z)"
      ],
      "metadata": {
        "id": "FvTYxNZLTv6M"
      },
      "execution_count": 21,
      "outputs": []
    },
    {
      "cell_type": "code",
      "source": [
        "allOneOne"
      ],
      "metadata": {
        "colab": {
          "base_uri": "https://localhost:8080/"
        },
        "id": "3pJu_LxiT-Wy",
        "outputId": "5518058a-1cd3-4450-9e77-3315be25b785"
      },
      "execution_count": 22,
      "outputs": [
        {
          "output_type": "execute_result",
          "data": {
            "text/plain": [
              "[6, 92, 104, 106, 93, 93, 108, 115, 94, 94]"
            ]
          },
          "metadata": {},
          "execution_count": 22
        }
      ]
    },
    {
      "cell_type": "code",
      "source": [
        "import random\n",
        "np.random.seed(48)\n",
        "randMany = []\n",
        "randOne = []\n",
        "w0 = np.random.rand(6,1)\n",
        "for i in range(0,10):\n",
        "  alpha = (i+1)/10\n",
        "  x = manyAtATime(w0,alpha)\n",
        "  z = oneAtATime(w0,alpha)\n",
        "  randMany.append(x)\n",
        "  randOne.append(z)"
      ],
      "metadata": {
        "id": "U0uZoSRWlw2k"
      },
      "execution_count": 23,
      "outputs": []
    },
    {
      "cell_type": "code",
      "source": [
        "randOne"
      ],
      "metadata": {
        "colab": {
          "base_uri": "https://localhost:8080/"
        },
        "id": "Z6X1osgvV4aZ",
        "outputId": "380a5fcf-d0ec-4bc0-c243-3a95b2dd830a"
      },
      "execution_count": 24,
      "outputs": [
        {
          "output_type": "execute_result",
          "data": {
            "text/plain": [
              "[99, 113, 110, 95, 94, 97, 98, 111, 109, 105]"
            ]
          },
          "metadata": {},
          "execution_count": 24
        }
      ]
    },
    {
      "cell_type": "markdown",
      "source": [
        "Answer no 4a : We need to take the sample points to a high dimension so that they can be seperated by a linear decision boundary."
      ],
      "metadata": {
        "id": "08YfStxcP_sd"
      }
    },
    {
      "cell_type": "markdown",
      "source": [
        "Answer no 4b : For the three initial weight cases and for each learning rate, number of updates that is the iteration numbers for both the algorithm is given in the below tables along with their comparative bar charts."
      ],
      "metadata": {
        "id": "twHPd_ysQNzZ"
      }
    },
    {
      "cell_type": "code",
      "source": [
        "import matplotlib.pyplot as plt\n",
        "print(\"Initial weight vector all Zero\")\n",
        "columnheaders=['Learning Rate', 'One At a Time', 'Many At a Time']\n",
        "lr = []\n",
        "for i in range(0,10):\n",
        "  temp = (i+1)/10\n",
        "  lr.append(temp)\n",
        "l = [lr,allZeroOne,allZeroMany]\n",
        "l = list(map(list, zip(*l)))\n",
        "the_table=plt.table(cellText=l,loc='top', colLabels = columnheaders, cellLoc='center')\n",
        "plt.axis(\"off\")\n",
        "the_table.set_fontsize(12)\n",
        "the_table.scale(2, 3)\n",
        "plt.show()\n"
      ],
      "metadata": {
        "colab": {
          "base_uri": "https://localhost:8080/",
          "height": 661
        },
        "id": "IYhKC-atWYcz",
        "outputId": "608369cc-c9cf-4654-f65b-ab0405139f23"
      },
      "execution_count": 25,
      "outputs": [
        {
          "output_type": "stream",
          "name": "stdout",
          "text": [
            "Initial weight vector all Zero\n"
          ]
        },
        {
          "output_type": "display_data",
          "data": {
            "image/png": "[encoded data removed]",
            "text/plain": [
              "<Figure size 432x288 with 1 Axes>"
            ]
          },
          "metadata": {
            "needs_background": "light"
          }
        }
      ]
    },
    {
      "cell_type": "code",
      "source": [
        "import matplotlib.pyplot as plt\n",
        "print(\"Initial weight vector all One\")\n",
        "columnheaders=['Learning Rate', 'One At a Time', 'Many At a Time']\n",
        "lr = []\n",
        "for i in range(0,10):\n",
        "  temp = (i+1)/10\n",
        "  lr.append(temp)\n",
        "l = [lr,allOneOne,allOneMany]\n",
        "l = list(map(list, zip(*l)))\n",
        "the_table=plt.table(cellText=l,loc='top', colLabels = columnheaders, cellLoc='center')\n",
        "plt.axis(\"off\")\n",
        "the_table.set_fontsize(12)\n",
        "the_table.scale(2, 3)\n",
        "plt.show()"
      ],
      "metadata": {
        "colab": {
          "base_uri": "https://localhost:8080/",
          "height": 661
        },
        "id": "N2XDs328ZNjY",
        "outputId": "16d3327c-1e98-471a-aea0-fed645b974e0"
      },
      "execution_count": 26,
      "outputs": [
        {
          "output_type": "stream",
          "name": "stdout",
          "text": [
            "Initial weight vector all One\n"
          ]
        },
        {
          "output_type": "display_data",
          "data": {
            "image/png": "[encoded data removed]",
            "text/plain": [
              "<Figure size 432x288 with 1 Axes>"
            ]
          },
          "metadata": {
            "needs_background": "light"
          }
        }
      ]
    },
    {
      "cell_type": "code",
      "source": [
        "import matplotlib.pyplot as plt\n",
        "print(\"Initial weight vector Random\")\n",
        "columnheaders=['Learning Rate', 'One At a Time', 'Many At a Time']\n",
        "lr = []\n",
        "for i in range(0,10):\n",
        "  temp = (i+1)/10\n",
        "  lr.append(temp)\n",
        "l = [lr,randOne,randMany]\n",
        "l = list(map(list, zip(*l)))\n",
        "the_table=plt.table(cellText=l,loc='top', colLabels = columnheaders, cellLoc='center')\n",
        "plt.axis(\"off\")\n",
        "the_table.set_fontsize(12)\n",
        "the_table.scale(2, 3)\n",
        "plt.show()"
      ],
      "metadata": {
        "colab": {
          "base_uri": "https://localhost:8080/",
          "height": 661
        },
        "id": "1ActjX1jZUH_",
        "outputId": "4293fc43-c8d0-44f7-c774-c418347571b0"
      },
      "execution_count": 27,
      "outputs": [
        {
          "output_type": "stream",
          "name": "stdout",
          "text": [
            "Initial weight vector Random\n"
          ]
        },
        {
          "output_type": "display_data",
          "data": {
            "image/png": "[encoded data removed]",
            "text/plain": [
              "<Figure size 432x288 with 1 Axes>"
            ]
          },
          "metadata": {
            "needs_background": "light"
          }
        }
      ]
    },
    {
      "cell_type": "code",
      "source": [
        "plt.figure(figsize = (12, 8))\n",
        "X = ['0.1','0.2','0.3','0.4','0.5','0.6','0.7','0.8','0.9','1.0']\n",
        "X_axis = np.arange(len(X))\n",
        "  \n",
        "plt.bar(X_axis - 0.2, allZeroOne, 0.4, label = 'OneAtATime')\n",
        "plt.bar(X_axis + 0.2, allZeroMany, 0.4, label = 'ManyAtATime')\n",
        "\n",
        "plt.xticks(X_axis, X)\n",
        "plt.xlabel(\"Learning rate\")\n",
        "plt.ylabel(\"Iteration No\")\n",
        "plt.title(\"No of iterations for learning rates for one and many at a time when initial weight is all zero\")\n",
        "plt.yticks([i for i in range(0, 120, 20)])\n",
        "plt.legend()\n",
        "plt.show()"
      ],
      "metadata": {
        "colab": {
          "base_uri": "https://localhost:8080/",
          "height": 513
        },
        "id": "wxCMWrvTa47E",
        "outputId": "34b0118f-7962-4c64-bbd2-6c769fe30b91"
      },
      "execution_count": 28,
      "outputs": [
        {
          "output_type": "display_data",
          "data": {
            "image/png": "[encoded data removed]",
            "text/plain": [
              "<Figure size 864x576 with 1 Axes>"
            ]
          },
          "metadata": {
            "needs_background": "light"
          }
        }
      ]
    },
    {
      "cell_type": "code",
      "source": [
        "plt.figure(figsize = (12, 8))\n",
        "X = ['0.1','0.2','0.3','0.4','0.5','0.6','0.7','0.8','0.9','1.0']\n",
        "X_axis = np.arange(len(X))\n",
        "  \n",
        "plt.bar(X_axis - 0.2, allOneOne, 0.4, label = 'OneAtATime')\n",
        "plt.bar(X_axis + 0.2, allOneMany, 0.4, label = 'ManyAtATime')\n",
        "  \n",
        "plt.xticks(X_axis, X)\n",
        "plt.xlabel(\"Learning rate\")\n",
        "plt.ylabel(\"Iteration No\")\n",
        "plt.title(\"No of iterations for learning rates for one and many at a time when initial weight is all one\")\n",
        "plt.yticks([i for i in range(0, 120, 20)])\n",
        "plt.legend()\n",
        "plt.show()"
      ],
      "metadata": {
        "colab": {
          "base_uri": "https://localhost:8080/",
          "height": 513
        },
        "id": "sgL8x9C1c_l3",
        "outputId": "414831c0-89c3-4326-9dd8-946deae6f735"
      },
      "execution_count": 29,
      "outputs": [
        {
          "output_type": "display_data",
          "data": {
            "image/png": "[encoded data removed]",
            "text/plain": [
              "<Figure size 864x576 with 1 Axes>"
            ]
          },
          "metadata": {
            "needs_background": "light"
          }
        }
      ]
    },
    {
      "cell_type": "code",
      "source": [
        "plt.figure(figsize = (12, 8))\n",
        "X = ['0.1','0.2','0.3','0.4','0.5','0.6','0.7','0.8','0.9','1.0']\n",
        "X_axis = np.arange(len(X))\n",
        "  \n",
        "plt.bar(X_axis - 0.2, randOne, 0.4, label = 'OneAtATime')\n",
        "plt.bar(X_axis + 0.2, randMany, 0.4, label = 'ManyAtATime')\n",
        "  \n",
        "plt.xticks(X_axis, X)\n",
        "plt.xlabel(\"Learning rate\")\n",
        "plt.ylabel(\"Iteration No\")\n",
        "plt.title(\"No of iterations for learning rates for one and many at a time when initial weight is all one\")\n",
        "plt.yticks([i for i in range(0, 120, 20)])\n",
        "plt.legend()\n",
        "plt.show()"
      ],
      "metadata": {
        "colab": {
          "base_uri": "https://localhost:8080/",
          "height": 513
        },
        "id": "Iw00bmW-dNtN",
        "outputId": "f79bbdb0-6b57-41b2-ebb2-319530161242"
      },
      "execution_count": 30,
      "outputs": [
        {
          "output_type": "display_data",
          "data": {
            "image/png": "[encoded data removed]",
            "text/plain": [
              "<Figure size 864x576 with 1 Axes>"
            ]
          },
          "metadata": {
            "needs_background": "light"
          }
        }
      ]
    }
  ]
}