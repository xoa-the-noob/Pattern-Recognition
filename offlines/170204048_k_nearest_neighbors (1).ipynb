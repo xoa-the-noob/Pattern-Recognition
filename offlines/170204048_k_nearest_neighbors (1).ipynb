{
  "nbformat": 4,
  "nbformat_minor": 0,
  "metadata": {
    "colab": {
      "name": "Copy of k_nearest_neighbors.ipynb",
      "provenance": [],
      "collapsed_sections": [],
      "machine_shape": "hm"
    },
    "kernelspec": {
      "name": "python3",
      "display_name": "Python 3"
    }
  },
  "cells": [
    {
      "cell_type": "markdown",
      "metadata": {
        "id": "0MRC0e0KhQ0S"
      },
      "source": [
        "# K-Nearest Neighbors (K-NN)"
      ]
    },
    {
      "cell_type": "markdown",
      "metadata": {
        "id": "LWd1UlMnhT2s"
      },
      "source": [
        "## Importing the libraries"
      ]
    },
    {
      "cell_type": "code",
      "metadata": {
        "id": "YvGPUQaHhXfL"
      },
      "source": [
        "import numpy as np\n",
        "import matplotlib.pyplot as plt\n",
        "import pandas as pd"
      ],
      "execution_count": 122,
      "outputs": []
    },
    {
      "cell_type": "markdown",
      "metadata": {
        "id": "K1VMqkGvhc3-"
      },
      "source": [
        "## Importing the dataset"
      ]
    },
    {
      "cell_type": "code",
      "metadata": {
        "id": "M52QDmyzhh9s"
      },
      "source": [
        "dataset = pd.read_csv('train_knn.txt',header = None)\n",
        "dataset2 = pd.read_csv('test_knn.txt',header = None)"
      ],
      "execution_count": 123,
      "outputs": []
    },
    {
      "cell_type": "markdown",
      "source": [
        "##Assigning features"
      ],
      "metadata": {
        "id": "8ZvFZNcqS2Fi"
      }
    },
    {
      "cell_type": "code",
      "source": [
        "x1 = dataset.iloc[:, 0].values\n",
        "x2 = dataset.iloc[:, 1].values\n",
        "y1 = dataset2.iloc[:, 0].values\n",
        "y2 = dataset2.iloc[:, 1].values\n",
        "cls = dataset.iloc[:, 2].values"
      ],
      "metadata": {
        "id": "3mEJtmfwSwX_"
      },
      "execution_count": 124,
      "outputs": []
    },
    {
      "cell_type": "markdown",
      "source": [
        "##Task1 : Plotting training points(Class one as red and class 2 as blue points)"
      ],
      "metadata": {
        "id": "XCvMDRQ8S7nR"
      }
    },
    {
      "cell_type": "code",
      "source": [
        "import matplotlib.pyplot as plt\n",
        "for i in range (0,dataset.shape[0]):\n",
        "  if cls[i] == 1:\n",
        "    plt.plot(x1[i], x2[i], 'x',color='red')\n",
        "  elif cls[i] == 2:\n",
        "    plt.plot(x1[i], x2[i], 'o',color='blue')"
      ],
      "metadata": {
        "colab": {
          "base_uri": "https://localhost:8080/",
          "height": 265
        },
        "id": "QmXf-p49w3FP",
        "outputId": "1358165b-7117-4aef-fc77-52bb41d70fe1"
      },
      "execution_count": 125,
      "outputs": [
        {
          "output_type": "display_data",
          "data": {
            "image/png": "[encoded data removed]",
            "text/plain": [
              "<Figure size 432x288 with 1 Axes>"
            ]
          },
          "metadata": {
            "needs_background": "light"
          }
        }
      ]
    },
    {
      "cell_type": "markdown",
      "source": [
        "##Taking k value "
      ],
      "metadata": {
        "id": "Ghlf5aI1THYt"
      }
    },
    {
      "cell_type": "code",
      "source": [
        "print(\"Enter the value of k\")\n",
        "k = int(input())"
      ],
      "metadata": {
        "colab": {
          "base_uri": "https://localhost:8080/"
        },
        "id": "7FGhS1a_FABS",
        "outputId": "00804ae1-2fe1-4dcf-a543-61996550e2f9"
      },
      "execution_count": 126,
      "outputs": [
        {
          "name": "stdout",
          "output_type": "stream",
          "text": [
            "Enter the value of k\n",
            "3\n"
          ]
        }
      ]
    },
    {
      "cell_type": "markdown",
      "source": [
        "##Task 2+3: KNN Implementation and plotting test points after classifying them + Printing the top K distances along with their class labels and the predicted class to “prediction.txt” for"
      ],
      "metadata": {
        "id": "UWVieLwdTRsQ"
      }
    },
    {
      "cell_type": "code",
      "source": [
        "predCls = []\n",
        "dummy = []\n",
        "dummy2 = []\n",
        "file1 = open(\"prediction.txt\",\"w\")\n",
        "for i in range (0,dataset2.shape[0]):\n",
        "  for j in range(0,dataset.shape[0]):\n",
        "    dummy.append(np.power((x1[j]-y1[i]),2) + np.power((x2[j]-y2[i]),2))\n",
        "    dummy2.append(cls[j])\n",
        "  \n",
        "  dummy3 = [i for _,i in sorted(zip(dummy,dummy2))]\n",
        "  dummy.sort()\n",
        " \n",
        "  s1 = \"For points:\" + str(y1[i]) + \" \" + str(y2[i])\n",
        "  file1.writelines(s1)\n",
        "  for x in range(k):\n",
        "    class1 = 0\n",
        "    class2 = 0\n",
        "    s2 = \"\\nDistance \" + str(x+1) + \": \" + str(dummy[x]) + \"    Class \" + \": \" + str(dummy3[x])\n",
        "    file1.writelines(s2)\n",
        "    if dummy3[x] == 1:\n",
        "      class1 = class1+1\n",
        "    if dummy3[x] == 2:\n",
        "      class2 = class2+1\n",
        "  if class1>class2:\n",
        "    file1.write(\"\\nPredicted Class : 1\\n\")\n",
        "    predCls.append(1)\n",
        "  else:\n",
        "    file1.write(\"\\nPredicted Class : 2\\n\")\n",
        "    predCls.append(2)\n",
        "  dummy = []\n",
        "  dummy3 = []\n",
        "  dummy2 = []\n",
        "  s1 = \"\"\n",
        "  s2 = \"\"\n",
        "file1.close()"
      ],
      "metadata": {
        "id": "q3ZRw3aU1U_A"
      },
      "execution_count": 127,
      "outputs": []
    },
    {
      "cell_type": "code",
      "source": [
        "for i in range(0,dataset2.shape[0]):\n",
        "  if predCls[i] == 1:\n",
        "    plt.plot(x1[i], x2[i], 'x',color='red')\n",
        "  elif predCls[i] == 2:\n",
        "    plt.plot(x1[i], x2[i], 'o',color='blue')"
      ],
      "metadata": {
        "colab": {
          "base_uri": "https://localhost:8080/",
          "height": 265
        },
        "id": "nxuV6GtV-JXU",
        "outputId": "d4053ee5-3cc0-4701-8dba-25d8665b69b5"
      },
      "execution_count": 128,
      "outputs": [
        {
          "output_type": "display_data",
          "data": {
            "image/png": "[encoded data removed]",
            "text/plain": [
              "<Figure size 432x288 with 1 Axes>"
            ]
          },
          "metadata": {
            "needs_background": "light"
          }
        }
      ]
    }
  ]
}