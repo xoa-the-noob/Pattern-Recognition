{
  "nbformat": 4,
  "nbformat_minor": 0,
  "metadata": {
    "colab": {
      "name": "170204048_KMC.ipynb",
      "provenance": [],
      "collapsed_sections": []
    },
    "kernelspec": {
      "name": "python3",
      "display_name": "Python 3"
    },
    "language_info": {
      "name": "python"
    }
  },
  "cells": [
    {
      "cell_type": "markdown",
      "source": [
        "CSE4214 Pattern Recognition Lab\n",
        "\n",
        "Experiment No 5\n",
        "\n",
        "Implementing K-Means Clustering\n",
        "\n",
        "ID : 170204048"
      ],
      "metadata": {
        "id": "A4rrskIU552a"
      }
    },
    {
      "cell_type": "code",
      "source": [
        "import numpy as np\n",
        "import matplotlib.pyplot as plt\n",
        "import pandas as pd"
      ],
      "metadata": {
        "id": "uTBABxeaix64"
      },
      "execution_count": 219,
      "outputs": []
    },
    {
      "cell_type": "markdown",
      "source": [
        "1(i). Taking input from the given source data file:"
      ],
      "metadata": {
        "id": "N60YZ_X04dfw"
      }
    },
    {
      "cell_type": "code",
      "source": [
        "dataset = pd.read_csv('data_k_mean.txt',header = None,delimiter = ' ')"
      ],
      "metadata": {
        "id": "ZNvQrKx0jWZt"
      },
      "execution_count": 220,
      "outputs": []
    },
    {
      "cell_type": "code",
      "source": [
        "dataset"
      ],
      "metadata": {
        "colab": {
          "base_uri": "https://localhost:8080/",
          "height": 424
        },
        "id": "tDZV33xdjySv",
        "outputId": "c7bd53fa-bf04-4332-8881-5e1910e67ba9"
      },
      "execution_count": 221,
      "outputs": [
        {
          "output_type": "execute_result",
          "data": {
            "text/html": [
              "\n",
              "  <div id=\"df-b2573bc4-8d40-4356-80f0-b4398516dc9e\">\n",
              "    <div class=\"colab-df-container\">\n",
              "      <div>\n",
              "<style scoped>\n",
              "    .dataframe tbody tr th:only-of-type {\n",
              "        vertical-align: middle;\n",
              "    }\n",
              "\n",
              "    .dataframe tbody tr th {\n",
              "        vertical-align: top;\n",
              "    }\n",
              "\n",
              "    .dataframe thead th {\n",
              "        text-align: right;\n",
              "    }\n",
              "</style>\n",
              "<table border=\"1\" class=\"dataframe\">\n",
              "  <thead>\n",
              "    <tr style=\"text-align: right;\">\n",
              "      <th></th>\n",
              "      <th>0</th>\n",
              "      <th>1</th>\n",
              "    </tr>\n",
              "  </thead>\n",
              "  <tbody>\n",
              "    <tr>\n",
              "      <th>0</th>\n",
              "      <td>-7.87157</td>\n",
              "      <td>-4.86573</td>\n",
              "    </tr>\n",
              "    <tr>\n",
              "      <th>1</th>\n",
              "      <td>-4.76661</td>\n",
              "      <td>-6.87944</td>\n",
              "    </tr>\n",
              "    <tr>\n",
              "      <th>2</th>\n",
              "      <td>-6.67986</td>\n",
              "      <td>-5.83080</td>\n",
              "    </tr>\n",
              "    <tr>\n",
              "      <th>3</th>\n",
              "      <td>-8.93021</td>\n",
              "      <td>-4.15571</td>\n",
              "    </tr>\n",
              "    <tr>\n",
              "      <th>4</th>\n",
              "      <td>-7.91375</td>\n",
              "      <td>-4.22840</td>\n",
              "    </tr>\n",
              "    <tr>\n",
              "      <th>...</th>\n",
              "      <td>...</td>\n",
              "      <td>...</td>\n",
              "    </tr>\n",
              "    <tr>\n",
              "      <th>2995</th>\n",
              "      <td>-8.06037</td>\n",
              "      <td>-4.84080</td>\n",
              "    </tr>\n",
              "    <tr>\n",
              "      <th>2996</th>\n",
              "      <td>7.47328</td>\n",
              "      <td>0.37321</td>\n",
              "    </tr>\n",
              "    <tr>\n",
              "      <th>2997</th>\n",
              "      <td>6.91832</td>\n",
              "      <td>-0.32132</td>\n",
              "    </tr>\n",
              "    <tr>\n",
              "      <th>2998</th>\n",
              "      <td>-8.23828</td>\n",
              "      <td>-4.00405</td>\n",
              "    </tr>\n",
              "    <tr>\n",
              "      <th>2999</th>\n",
              "      <td>-5.75112</td>\n",
              "      <td>-5.99531</td>\n",
              "    </tr>\n",
              "  </tbody>\n",
              "</table>\n",
              "<p>3000 rows × 2 columns</p>\n",
              "</div>\n",
              "      <button class=\"colab-df-convert\" onclick=\"convertToInteractive('df-b2573bc4-8d40-4356-80f0-b4398516dc9e')\"\n",
              "              title=\"Convert this dataframe to an interactive table.\"\n",
              "              style=\"display:none;\">\n",
              "        \n",
              "  <svg xmlns=\"http://www.w3.org/2000/svg\" height=\"24px\"viewBox=\"0 0 24 24\"\n",
              "       width=\"24px\">\n",
              "    <path d=\"M0 0h24v24H0V0z\" fill=\"none\"/>\n",
              "    <path d=\"M18.56 5.44l.94 2.06.94-2.06 2.06-.94-2.06-.94-.94-2.06-.94 2.06-2.06.94zm-11 1L8.5 8.5l.94-2.06 2.06-.94-2.06-.94L8.5 2.5l-.94 2.06-2.06.94zm10 10l.94 2.06.94-2.06 2.06-.94-2.06-.94-.94-2.06-.94 2.06-2.06.94z\"/><path d=\"M17.41 7.96l-1.37-1.37c-.4-.4-.92-.59-1.43-.59-.52 0-1.04.2-1.43.59L10.3 9.45l-7.72 7.72c-.78.78-.78 2.05 0 2.83L4 21.41c.39.39.9.59 1.41.59.51 0 1.02-.2 1.41-.59l7.78-7.78 2.81-2.81c.8-.78.8-2.07 0-2.86zM5.41 20L4 18.59l7.72-7.72 1.47 1.35L5.41 20z\"/>\n",
              "  </svg>\n",
              "      </button>\n",
              "      \n",
              "  <style>\n",
              "    .colab-df-container {\n",
              "      display:flex;\n",
              "      flex-wrap:wrap;\n",
              "      gap: 12px;\n",
              "    }\n",
              "\n",
              "    .colab-df-convert {\n",
              "      background-color: #E8F0FE;\n",
              "      border: none;\n",
              "      border-radius: 50%;\n",
              "      cursor: pointer;\n",
              "      display: none;\n",
              "      fill: #1967D2;\n",
              "      height: 32px;\n",
              "      padding: 0 0 0 0;\n",
              "      width: 32px;\n",
              "    }\n",
              "\n",
              "    .colab-df-convert:hover {\n",
              "      background-color: #E2EBFA;\n",
              "      box-shadow: 0px 1px 2px rgba(60, 64, 67, 0.3), 0px 1px 3px 1px rgba(60, 64, 67, 0.15);\n",
              "      fill: #174EA6;\n",
              "    }\n",
              "\n",
              "    [theme=dark] .colab-df-convert {\n",
              "      background-color: #3B4455;\n",
              "      fill: #D2E3FC;\n",
              "    }\n",
              "\n",
              "    [theme=dark] .colab-df-convert:hover {\n",
              "      background-color: #434B5C;\n",
              "      box-shadow: 0px 1px 3px 1px rgba(0, 0, 0, 0.15);\n",
              "      filter: drop-shadow(0px 1px 2px rgba(0, 0, 0, 0.3));\n",
              "      fill: #FFFFFF;\n",
              "    }\n",
              "  </style>\n",
              "\n",
              "      <script>\n",
              "        const buttonEl =\n",
              "          document.querySelector('#df-b2573bc4-8d40-4356-80f0-b4398516dc9e button.colab-df-convert');\n",
              "        buttonEl.style.display =\n",
              "          google.colab.kernel.accessAllowed ? 'block' : 'none';\n",
              "\n",
              "        async function convertToInteractive(key) {\n",
              "          const element = document.querySelector('#df-b2573bc4-8d40-4356-80f0-b4398516dc9e');\n",
              "          const dataTable =\n",
              "            await google.colab.kernel.invokeFunction('convertToInteractive',\n",
              "                                                     [key], {});\n",
              "          if (!dataTable) return;\n",
              "\n",
              "          const docLinkHtml = 'Like what you see? Visit the ' +\n",
              "            '<a target=\"_blank\" href=https://colab.research.google.com/notebooks/data_table.ipynb>data table notebook</a>'\n",
              "            + ' to learn more about interactive tables.';\n",
              "          element.innerHTML = '';\n",
              "          dataTable['output_type'] = 'display_data';\n",
              "          await google.colab.output.renderOutput(dataTable, element);\n",
              "          const docLink = document.createElement('div');\n",
              "          docLink.innerHTML = docLinkHtml;\n",
              "          element.appendChild(docLink);\n",
              "        }\n",
              "      </script>\n",
              "    </div>\n",
              "  </div>\n",
              "  "
            ],
            "text/plain": [
              "            0        1\n",
              "0    -7.87157 -4.86573\n",
              "1    -4.76661 -6.87944\n",
              "2    -6.67986 -5.83080\n",
              "3    -8.93021 -4.15571\n",
              "4    -7.91375 -4.22840\n",
              "...       ...      ...\n",
              "2995 -8.06037 -4.84080\n",
              "2996  7.47328  0.37321\n",
              "2997  6.91832 -0.32132\n",
              "2998 -8.23828 -4.00405\n",
              "2999 -5.75112 -5.99531\n",
              "\n",
              "[3000 rows x 2 columns]"
            ]
          },
          "metadata": {},
          "execution_count": 221
        }
      ]
    },
    {
      "cell_type": "code",
      "source": [
        "x = dataset.iloc[:, 0].values\n",
        "y = dataset.iloc[:, 1].values"
      ],
      "metadata": {
        "id": "5Gka_ia_jgz9"
      },
      "execution_count": 222,
      "outputs": []
    },
    {
      "cell_type": "markdown",
      "source": [
        " 1(ii). Plotting all the points:"
      ],
      "metadata": {
        "id": "tQo5-OGz4lZ7"
      }
    },
    {
      "cell_type": "code",
      "source": [
        "for i in range (0,dataset.shape[0]):\n",
        "  plt.plot(x[i], y[i], 'x',color='red')"
      ],
      "metadata": {
        "colab": {
          "base_uri": "https://localhost:8080/",
          "height": 265
        },
        "id": "bgxtLAdgkC8g",
        "outputId": "e1833750-7d9c-4e4f-80a9-b3ac0b08d6f5"
      },
      "execution_count": 223,
      "outputs": [
        {
          "output_type": "display_data",
          "data": {
            "image/png": "[encoded data removed]",
            "text/plain": [
              "<Figure size 432x288 with 1 Axes>"
            ]
          },
          "metadata": {
            "needs_background": "light"
          }
        }
      ]
    },
    {
      "cell_type": "markdown",
      "source": [
        "Taking the value of k as input"
      ],
      "metadata": {
        "id": "x81q3ymk5AMH"
      }
    },
    {
      "cell_type": "code",
      "source": [
        "print(\"Enter the value of k\")\n",
        "k = int(input())"
      ],
      "metadata": {
        "colab": {
          "base_uri": "https://localhost:8080/"
        },
        "id": "1w2_bzHTkjo4",
        "outputId": "6b3286a9-3df6-40bb-f0d2-c052ffcffc95"
      },
      "execution_count": 224,
      "outputs": [
        {
          "name": "stdout",
          "output_type": "stream",
          "text": [
            "Enter the value of k\n",
            "2\n"
          ]
        }
      ]
    },
    {
      "cell_type": "code",
      "source": [
        "centroid = np.empty((k, 2), float)\n",
        "import random\n",
        "for m in range(k):\n",
        "  centroid[m][0]= np.random.choice(x)\n",
        "  centroid[m][1]= np.random.choice(y)"
      ],
      "metadata": {
        "id": "Jt9UCn0gnENe"
      },
      "execution_count": 225,
      "outputs": []
    },
    {
      "cell_type": "markdown",
      "source": [
        "2. Performing the k-means clustering algorithm applying Euclidean distance as a distance measure on the given dataset:"
      ],
      "metadata": {
        "id": "psB-8DGm5JTG"
      }
    },
    {
      "cell_type": "code",
      "source": [
        "temp = np.empty((dataset.shape[0], k), float)\n",
        "distance = np.empty((dataset.shape[0], k), float)\n",
        "cluster = []\n",
        "tempcluster = []\n",
        "\n",
        "while(1):\n",
        "  for i in range(dataset.shape[0]):\n",
        "    for j in range(k):\n",
        "      temp[i][j] = pow( (pow((x[i] - centroid[j][0]),2) + pow((y[i] - centroid[j][1]),2)) , 1/2 )\n",
        "      distance[i][j] = temp[i][j]\n",
        "  cluster.clear()\n",
        "  min = np.amin(distance, axis = 1)\n",
        "  \n",
        "  for m in range(dataset.shape[0]):\n",
        "    for n in range(k):\n",
        "      if distance[m][n] == min[m]:\n",
        "        cluster.append(n)\n",
        "  \n",
        "  if tempcluster == cluster:\n",
        "    break;\n",
        "  \n",
        "  if tempcluster != cluster:\n",
        "    Xcnt = np.empty((0))\n",
        "    for i in range(k):\n",
        "      Xcnt = np.append(Xcnt, i)\n",
        "    Ycnt = np.empty((0))\n",
        "    for i in range(k):\n",
        "      Ycnt = np.append(Ycnt, i)\n",
        "    cnt = np.empty((0))\n",
        "    for i in range(k):\n",
        "      cnt = np.append(cnt, i)\n",
        "    \n",
        "    for i in range(dataset.shape[0]):\n",
        "      for j in range(k):\n",
        "        if cluster[i] == j:\n",
        "          Xcnt[j] += x[i]\n",
        "          Ycnt[j] += y[i]\n",
        "          cnt[j] += cnt[j]\n",
        "      centroid[j][0] = (Xcnt[j]/cnt[j])\n",
        "      centroid[j][1] = (Ycnt[j]/cnt[j])\n",
        "    tempcluster.clear()\n",
        "    tempcluster = cluster.copy()"
      ],
      "metadata": {
        "colab": {
          "base_uri": "https://localhost:8080/"
        },
        "id": "Tx7Xa59gVYT9",
        "outputId": "16091237-7815-4fb9-8792-f376d6f11e1e"
      },
      "execution_count": 226,
      "outputs": [
        {
          "output_type": "stream",
          "name": "stderr",
          "text": [
            "/usr/local/lib/python3.7/dist-packages/ipykernel_launcher.py:38: RuntimeWarning: overflow encountered in double_scalars\n"
          ]
        }
      ]
    },
    {
      "cell_type": "markdown",
      "source": [
        "3. Coloring the corresponding points on the clusters with different colors:"
      ],
      "metadata": {
        "id": "pkBbqPp-46jN"
      }
    },
    {
      "cell_type": "code",
      "source": [
        "import numpy as np\n",
        "import matplotlib.pyplot as plt\n",
        "plt.scatter(x, y, c=cluster)\n",
        "plt.show()"
      ],
      "metadata": {
        "colab": {
          "base_uri": "https://localhost:8080/",
          "height": 265
        },
        "id": "h-d6C38H4FW6",
        "outputId": "2419b3bb-8cbb-4c8c-a831-d5845f6a5552"
      },
      "execution_count": 227,
      "outputs": [
        {
          "output_type": "display_data",
          "data": {
            "image/png": "[encoded data removed]",
            "text/plain": [
              "<Figure size 432x288 with 1 Axes>"
            ]
          },
          "metadata": {
            "needs_background": "light"
          }
        }
      ]
    }
  ]
}